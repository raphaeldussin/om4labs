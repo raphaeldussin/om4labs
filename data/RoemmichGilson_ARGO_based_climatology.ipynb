{
 "cells": [
  {
   "cell_type": "markdown",
   "id": "annoying-crest",
   "metadata": {},
   "source": [
    "# Retrieving the Roemmich-Gilson ARGO based T/S Climatology"
   ]
  },
  {
   "cell_type": "code",
   "execution_count": null,
   "id": "supposed-essex",
   "metadata": {},
   "outputs": [],
   "source": [
    "import xarray as xr\n",
    "from pathlib import Path\n",
    "from glob import glob\n",
    "import requests\n",
    "import warnings\n",
    "import subprocess as sp\n",
    "import seawater\n",
    "import pandas as pd\n",
    "\n",
    "warnings.filterwarnings(\"ignore\")\n",
    "\n",
    "def url_retrieve(url: str, outfile: Path):\n",
    "    R = requests.get(url, allow_redirects=True, verify=False)\n",
    "    if R.status_code != 200:\n",
    "        raise ConnectionError('could not download {}\\nerror code: {}'.format(url, R.status_code))\n",
    "\n",
    "    outfile.write_bytes(R.content)"
   ]
  },
  {
   "cell_type": "code",
   "execution_count": null,
   "id": "enabling-sweet",
   "metadata": {},
   "outputs": [],
   "source": [
    "urlroot = \"https://sio-argo.ucsd.edu/gilson/argo_climatology/\""
   ]
  },
  {
   "cell_type": "markdown",
   "id": "presidential-requirement",
   "metadata": {},
   "source": [
    "## Download the 2004-2018 climatology"
   ]
  },
  {
   "cell_type": "code",
   "execution_count": null,
   "id": "classified-modification",
   "metadata": {},
   "outputs": [],
   "source": [
    "url_retrieve(f\"{urlroot}/RG_ArgoClim_Temperature_2019.nc.gz\", Path(\"./RG_ArgoClim_Temperature_2019.nc.gz\"))\n",
    "url_retrieve(f\"{urlroot}/RG_ArgoClim_Salinity_2019.nc.gz\", Path(\"./RG_ArgoClim_Salinity_2019.nc.gz\"))"
   ]
  },
  {
   "cell_type": "markdown",
   "id": "inside-password",
   "metadata": {},
   "source": [
    "## Download the extension"
   ]
  },
  {
   "cell_type": "code",
   "execution_count": null,
   "id": "rolled-uniform",
   "metadata": {},
   "outputs": [],
   "source": [
    "files_ext = []\n",
    "lastyear = 2021\n",
    "for year in range(2019, lastyear+1):\n",
    "    for month in range(1, 12+1):\n",
    "        print(f\"retrieving RG_ArgoClim_{year}{month:02g}_2019.nc.gz\")\n",
    "        files_ext.append(f\"RG_ArgoClim_{year}{month:02g}_2019.nc\")\n",
    "        url_retrieve(f\"{urlroot}/RG_ArgoClim_{year}{month:02g}_2019.nc.gz\", Path(f\"./RG_ArgoClim_{year}{month:02g}_2019.nc.gz\"))"
   ]
  },
  {
   "cell_type": "markdown",
   "id": "female-potter",
   "metadata": {},
   "source": [
    "### Decompress files"
   ]
  },
  {
   "cell_type": "code",
   "execution_count": null,
   "id": "australian-villa",
   "metadata": {},
   "outputs": [],
   "source": [
    "for f in glob(\"*.gz\"):\n",
    "    sp.check_call(f\"gunzip --force {f}\", shell=True)"
   ]
  },
  {
   "cell_type": "markdown",
   "id": "complicated-offering",
   "metadata": {},
   "source": [
    "## Merge all into a single file"
   ]
  },
  {
   "cell_type": "code",
   "execution_count": null,
   "id": "urban-contact",
   "metadata": {},
   "outputs": [],
   "source": [
    "ds_clim = xr.open_mfdataset([\"RG_ArgoClim_Temperature_2019.nc\", \"RG_ArgoClim_Salinity_2019.nc\"], decode_times=False, chunks={\"TIME\": 12})"
   ]
  },
  {
   "cell_type": "code",
   "execution_count": null,
   "id": "amber-connection",
   "metadata": {},
   "outputs": [],
   "source": [
    "ds_extension = xr.open_mfdataset(files_ext, decode_times=False, chunks={\"TIME\": 1})"
   ]
  },
  {
   "cell_type": "markdown",
   "id": "forced-figure",
   "metadata": {},
   "source": [
    "We need to first concatenate time-varying variables then add back the invariant fields:"
   ]
  },
  {
   "cell_type": "code",
   "execution_count": null,
   "id": "controversial-financing",
   "metadata": {},
   "outputs": [],
   "source": [
    "invariants = [\"ARGO_SALINITY_MEAN\", \"ARGO_TEMPERATURE_MEAN\", \"BATHYMETRY_MASK\", \"MAPPING_MASK\"]\n",
    "\n",
    "ds = xr.concat([ds_clim.drop_vars(invariants), ds_extension], dim=\"TIME\")\n",
    "\n",
    "for var in invariants:\n",
    "    ds[var] = ds_clim[var]"
   ]
  },
  {
   "cell_type": "code",
   "execution_count": null,
   "id": "pursuant-tribune",
   "metadata": {},
   "outputs": [],
   "source": [
    "ds.to_netcdf(f\"RG_ArgoClim_Extended_200401-{lastyear}12.nc\", format=\"NETCDF3_64BIT\")"
   ]
  },
  {
   "cell_type": "markdown",
   "id": "6492543e-a4d0-428d-80bb-8ba2f08a0952",
   "metadata": {},
   "source": [
    "## Create Annual and Monthly clim for salt and pot_temp"
   ]
  },
  {
   "cell_type": "code",
   "execution_count": null,
   "id": "691ced23-046c-4810-9809-cb4625d8ab05",
   "metadata": {},
   "outputs": [],
   "source": [
    "# compute potential temperature\n",
    "ptemp = xr.apply_ufunc(seawater.eos80.ptmp,\n",
    "                       ds[\"ARGO_SALINITY_MEAN\"] + ds[\"ARGO_SALINITY_ANOMALY\"],\n",
    "                       ds[\"ARGO_TEMPERATURE_MEAN\"] + ds[\"ARGO_TEMPERATURE_ANOMALY\"],\n",
    "                       ds[\"PRESSURE\"],\n",
    "                       dask='parallelized',\n",
    "                       output_dtypes=[ds[\"ARGO_TEMPERATURE_MEAN\"].dtype])\n",
    "\n",
    "# reconstruct salinity (mean + anomaly)\n",
    "salt = ds[\"ARGO_SALINITY_MEAN\"] + ds[\"ARGO_SALINITY_ANOMALY\"]"
   ]
  },
  {
   "cell_type": "code",
   "execution_count": null,
   "id": "19d1f60b-f918-40c0-b132-5b468ec45fba",
   "metadata": {},
   "outputs": [],
   "source": [
    "# create a more flexible time axis\n",
    "from datetime import timedelta\n",
    "delta = timedelta(days=15)\n",
    "time = pd.date_range(start='2004-01', periods=len(ds[\"TIME\"]), freq=\"1MS\") + delta"
   ]
  },
  {
   "cell_type": "code",
   "execution_count": null,
   "id": "00a02b81-21bd-485b-a9af-761b33758947",
   "metadata": {},
   "outputs": [],
   "source": [
    "# replace time in arrays\n",
    "ptemp[\"TIME\"] = time\n",
    "salt[\"TIME\"] = time"
   ]
  },
  {
   "cell_type": "code",
   "execution_count": null,
   "id": "2d970b36-1676-4d39-b35a-4b7e789fb726",
   "metadata": {},
   "outputs": [],
   "source": [
    "# Annual climatology\n",
    "ptemp_annual = ptemp.mean(dim=\"TIME\")\n",
    "salt_annual = salt.mean(dim=\"TIME\")"
   ]
  },
  {
   "cell_type": "code",
   "execution_count": null,
   "id": "213284e0-0798-4066-932d-639452ebaa6b",
   "metadata": {},
   "outputs": [],
   "source": [
    "# Monthly climatology\n",
    "ptemp_monthly = ptemp.groupby(ptemp.TIME.dt.month).mean(dim=\"TIME\")\n",
    "salt_monthly = salt.groupby(salt.TIME.dt.month).mean(dim=\"TIME\")"
   ]
  },
  {
   "cell_type": "code",
   "execution_count": null,
   "id": "980e2f0d-80ad-4dc4-a631-17f6e94e9e54",
   "metadata": {},
   "outputs": [],
   "source": [
    "# create a depth array\n",
    "import numpy as np\n",
    "pressure3d = np.broadcast_to(ds[\"PRESSURE\"].values[:, np.newaxis, np.newaxis],\n",
    "                                                   (len(ds[\"PRESSURE\"]),\n",
    "                                                    len(ds[\"LATITUDE\"]),\n",
    "                                                    len(ds[\"LONGITUDE\"])))\n",
    "latitude3d = np.broadcast_to(ds[\"LATITUDE\"].values[np.newaxis, :, np.newaxis],\n",
    "                                                   (len(ds[\"PRESSURE\"]),\n",
    "                                                    len(ds[\"LATITUDE\"]),\n",
    "                                                    len(ds[\"LONGITUDE\"])))\n",
    "\n",
    "depth3d = seawater.eos80.dpth(pressure3d, latitude3d)"
   ]
  },
  {
   "cell_type": "code",
   "execution_count": null,
   "id": "7f665c1d-c623-4a19-8ddd-113d92a3af68",
   "metadata": {},
   "outputs": [],
   "source": [
    "annual_clim = xr.Dataset()\n",
    "annual_clim[\"ptemp\"] = ptemp_annual.fillna(1.e+20)\n",
    "annual_clim[\"salt\"] = salt_annual.fillna(1.e+20)\n",
    "annual_clim[\"depth\"] = xr.DataArray(depth3d, dims=(\"PRESSURE\", \"LATITUDE\", \"LONGITUDE\"))\n",
    "\n",
    "annual_clim = annual_clim.rename({\"LONGITUDE\": \"lon\", \n",
    "                                  \"LATITUDE\": \"lat\",\n",
    "                                  \"PRESSURE\": \"pres\"})\n"
   ]
  },
  {
   "cell_type": "code",
   "execution_count": null,
   "id": "2267e443-2d68-4d5b-8dd0-be327141cca1",
   "metadata": {},
   "outputs": [],
   "source": [
    "monthly_clim = xr.Dataset()\n",
    "monthly_clim[\"ptemp\"] = ptemp_monthly.fillna(1.e+20)\n",
    "monthly_clim[\"salt\"] = salt_monthly.fillna(1.e+20)\n",
    "monthly_clim[\"depth\"] = xr.DataArray(depth3d, dims=(\"PRESSURE\", \"LATITUDE\", \"LONGITUDE\"))\n",
    "\n",
    "monthly_clim = monthly_clim.rename({\"LONGITUDE\": \"lon\", \n",
    "                                    \"LATITUDE\": \"lat\",\n",
    "                                    \"PRESSURE\": \"pres\"})\n",
    "\n",
    "monthly_clim = monthly_clim.transpose(*(\"month\", \"pres\", \"lat\", \"lon\"))"
   ]
  },
  {
   "cell_type": "code",
   "execution_count": null,
   "id": "0fd0618c-2b46-4300-8d76-5fc46eb116c5",
   "metadata": {},
   "outputs": [],
   "source": [
    "annual_clim"
   ]
  },
  {
   "cell_type": "code",
   "execution_count": null,
   "id": "79759369-4c10-48c7-82c5-9d93856e10da",
   "metadata": {},
   "outputs": [],
   "source": [
    "monthly_clim"
   ]
  },
  {
   "cell_type": "code",
   "execution_count": null,
   "id": "a9db469c-fa3d-41ae-886a-7419ba82e78a",
   "metadata": {},
   "outputs": [],
   "source": [
    "annual_clim.to_netcdf(f\"RG_ArgoClim_Extended_200401-{lastyear}12_annual_clim_ptemp+salt.nc\",\n",
    "                      encoding = {\"ptemp\": {\"_FillValue\": 1.e+20},\n",
    "                                  \"salt\": {\"_FillValue\": 1.e+20}},\n",
    "                      format=\"NETCDF3_64BIT\")"
   ]
  },
  {
   "cell_type": "code",
   "execution_count": null,
   "id": "9c03e734-a6a5-4a0b-8991-3f25983a9cdd",
   "metadata": {},
   "outputs": [],
   "source": [
    "monthly_clim.to_netcdf(f\"RG_ArgoClim_Extended_200401-{lastyear}12_monthly_clim_ptemp+salt.nc\",\n",
    "                       encoding = {\"ptemp\": {\"_FillValue\": 1.e+20},\n",
    "                                  \"salt\": {\"_FillValue\": 1.e+20}},\n",
    "                       format=\"NETCDF3_64BIT\", unlimited_dims=\"month\")"
   ]
  }
 ],
 "metadata": {
  "kernelspec": {
   "display_name": "om4labs",
   "language": "python",
   "name": "om4labs"
  },
  "language_info": {
   "codemirror_mode": {
    "name": "ipython",
    "version": 3
   },
   "file_extension": ".py",
   "mimetype": "text/x-python",
   "name": "python",
   "nbconvert_exporter": "python",
   "pygments_lexer": "ipython3",
   "version": "3.8.12"
  }
 },
 "nbformat": 4,
 "nbformat_minor": 5
}
